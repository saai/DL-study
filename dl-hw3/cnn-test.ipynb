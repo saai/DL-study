{
 "cells": [
  {
   "cell_type": "code",
   "execution_count": 36,
   "metadata": {},
   "outputs": [],
   "source": [
    "import torch\n",
    "import torch.nn as nn\n",
    "import torch.nn.functional as F\n",
    "import torch.optim as optim\n",
    "from torchvision import datasets, transforms\n",
    "torch.__version__\n",
    "import numpy as np\n",
    "from plot import plot_loss_and_acc"
   ]
  },
  {
   "cell_type": "code",
   "execution_count": 37,
   "metadata": {},
   "outputs": [
    {
     "name": "stdout",
     "output_type": "stream",
     "text": [
      "cpu\n"
     ]
    }
   ],
   "source": [
    "# 超参数\n",
    "BATCH_SIZE=512 #大概需要2G的显存\n",
    "EPOCHS=10 # 总共训练批次\n",
    "DEVICE = torch.device(\"cuda\" if torch.cuda.is_available() else \"cpu\") # 让torch判断是否使用GPU，建议使用GPU环境，因为会快很多\n",
    "print(DEVICE)"
   ]
  },
  {
   "cell_type": "code",
   "execution_count": 38,
   "metadata": {},
   "outputs": [],
   "source": [
    "train_loader = torch.utils.data.DataLoader(\n",
    "        datasets.MNIST('./data', train=True, download=True, \n",
    "                       transform=transforms.Compose([\n",
    "                           transforms.ToTensor(),\n",
    "                           transforms.Normalize((0.1307,), (0.3081,))\n",
    "                       ])),\n",
    "        batch_size=BATCH_SIZE, shuffle=True)"
   ]
  },
  {
   "cell_type": "code",
   "execution_count": 39,
   "metadata": {},
   "outputs": [],
   "source": [
    "test_loader = torch.utils.data.DataLoader(\n",
    "        datasets.MNIST('./data', train=False, transform=transforms.Compose([\n",
    "                           transforms.ToTensor(),\n",
    "                           transforms.Normalize((0.1307,), (0.3081,))\n",
    "                       ])),\n",
    "        batch_size=BATCH_SIZE, shuffle=True)"
   ]
  },
  {
   "cell_type": "code",
   "execution_count": 40,
   "metadata": {},
   "outputs": [],
   "source": [
    "class ConvNet(nn.Module):\n",
    "    def __init__(self):\n",
    "        super().__init__()\n",
    "        # batch*1*28*28（每次会送入batch个样本，输入通道数1（黑白图像），图像分辨率是28x28）\n",
    "        # 下面的卷积层Conv2d的第一个参数指输入通道数，第二个参数指输出通道数，第三个参数指卷积核的大小\n",
    "        self.conv1 = nn.Conv2d(1, 10, 5) # 输入通道数1，输出通道数10，核的大小5\n",
    "        self.conv2 = nn.Conv2d(10, 20, 3) # 输入通道数10，输出通道数20，核的大小3\n",
    "        # 下面的全连接层Linear的第一个参数指输入通道数，第二个参数指输出通道数\n",
    "        self.fc1 = nn.Linear(20*10*10, 500) # 输入通道数是2000，输出通道数是500\n",
    "        self.fc2 = nn.Linear(500, 10) # 输入通道数是500，输出通道数是10，即10分类\n",
    "    def forward(self,x):\n",
    "        in_size = x.size(0) # 在本例中in_size=512，也就是BATCH_SIZE的值。输入的x可以看成是512*1*28*28的张量。\n",
    "        out = self.conv1(x) # batch*1*28*28 -> batch*10*24*24（28x28的图像经过一次核为5x5的卷积，输出变为24x24）\n",
    "        out = F.relu(out) # batch*10*24*24（激活函数ReLU不改变形状））\n",
    "        out = F.max_pool2d(out, 2, 2) # batch*10*24*24 -> batch*10*12*12（2*2的池化层会减半）\n",
    "        out = self.conv2(out) # batch*10*12*12 -> batch*20*10*10（再卷积一次，核的大小是3）\n",
    "        out = F.relu(out) # batch*20*10*10\n",
    "        out = out.view(in_size, -1) # batch*20*10*10 -> batch*2000（out的第二维是-1，说明是自动推算，本例中第二维是20*10*10）\n",
    "        out = self.fc1(out) # batch*2000 -> batch*500\n",
    "        out = F.relu(out) # batch*500\n",
    "        out = self.fc2(out) # batch*500 -> batch*10\n",
    "        out = F.log_softmax(out, dim=1) # 计算log(softmax(x))\n",
    "        return out"
   ]
  },
  {
   "cell_type": "code",
   "execution_count": 41,
   "metadata": {},
   "outputs": [],
   "source": [
    "class MLPNet(nn.Module):\n",
    "    def __init__(self):\n",
    "        super().__init__()\n",
    "        self.fc1 = nn.Linear(784, 392)\n",
    "        self.fc2 = nn.Linear(392,128)\n",
    "        self.fc3 = nn.Linear(128,10)\n",
    "    def forward(self, x):\n",
    "        in_size = x.size(0)\n",
    "        out = x.view(in_size, -1)\n",
    "        out = self.fc1(out)\n",
    "        out =  F.relu(out)\n",
    "        out = self.fc2(out)\n",
    "        out = F.relu(out)\n",
    "        out = self.fc3(out)\n",
    "        out = F.log_softmax(out, dim=1)\n",
    "        return out"
   ]
  },
  {
   "cell_type": "code",
   "execution_count": 42,
   "metadata": {},
   "outputs": [],
   "source": [
    "def train_one_epoch(model, device, train_loader, optimizer, epoch):\n",
    "    batch_train_loss, batch_train_acc = [], []\n",
    "    model.train()\n",
    "    correct = 0\n",
    "    total = 0\n",
    "    for batch_idx, (data, target) in enumerate(train_loader):\n",
    "        data, target = data.to(device), target.to(device)\n",
    "        optimizer.zero_grad()\n",
    "        output = model(data)\n",
    "        loss = F.nll_loss(output, target)\n",
    "        pred = output.max(1, keepdim=True)[1] # 找到概率最大的下标\n",
    "        _, predicted = torch.max(output, 1)\n",
    "        corr = (predicted == target).sum().item()\n",
    "        loss.backward()\n",
    "        optimizer.step()\n",
    "        correct += corr\n",
    "        total += target.size(0)\n",
    "\n",
    "        if(batch_idx+1)%30 == 0: \n",
    "            acc = 1.000 * correct/total\n",
    "            # print('correct:',correct, 'total:', total , 'acc:', acc)\n",
    "            batch_train_acc.append(acc)\n",
    "            batch_train_loss.append(loss.item())\n",
    "            print('Train Epoch: {} [{}/{} ({:.0f}%)]\\tLoss: {:.6f}\\tACC: {:.6f}'.format(\n",
    "                epoch, total, len(train_loader.dataset),\n",
    "                100. * batch_idx / len(train_loader), loss.item(), acc))\n",
    "    return batch_train_loss, batch_train_acc\n",
    "\n",
    "def train(model, device, train_loader, optimizer, epoch):\n",
    "    avg_batch_train_loss, avg_batch_train_acc = [], []\n",
    "    for ep in range(1, epoch + 1):\n",
    "        batch_train_loss,batch_train_acc = train_one_epoch(model, device, train_loader, optimizer, ep)\n",
    "        avg_batch_train_loss.append(np.mean(batch_train_loss))\n",
    "        avg_batch_train_acc.append(np.mean(batch_train_acc))\n",
    "    return model, avg_batch_train_loss, avg_batch_train_loss"
   ]
  },
  {
   "cell_type": "code",
   "execution_count": 43,
   "metadata": {},
   "outputs": [],
   "source": [
    "def test(model, device, test_loader):\n",
    "    model.eval()\n",
    "    test_loss = 0\n",
    "    correct = 0\n",
    "    with torch.no_grad():\n",
    "        for data, target in test_loader:\n",
    "            data, target = data.to(device), target.to(device)\n",
    "            output = model(data)\n",
    "            test_loss += F.nll_loss(output, target, reduction='sum').item() # 将一批的损失相加\n",
    "            pred = output.max(1, keepdim=True)[1] # 找到概率最大的下标\n",
    "            correct += pred.eq(target.view_as(pred)).sum().item()\n",
    "\n",
    "    test_loss /= len(test_loader.dataset)\n",
    "    print('\\nTest set: Average loss: {:.4f}, Accuracy: {}/{} ({:.0f}%)\\n'.format(\n",
    "        test_loss, correct, len(test_loader.dataset),\n",
    "        100. * correct / len(test_loader.dataset)))"
   ]
  },
  {
   "cell_type": "code",
   "execution_count": 44,
   "metadata": {},
   "outputs": [],
   "source": [
    "# CNN 模型\n",
    "cnn_model = ConvNet().to(DEVICE)\n",
    "optimizer = optim.Adam(cnn_model.parameters())"
   ]
  },
  {
   "cell_type": "code",
   "execution_count": 45,
   "metadata": {},
   "outputs": [
    {
     "name": "stdout",
     "output_type": "stream",
     "text": [
      "Train Epoch: 1 [15360/60000 (25%)]\tLoss: 0.257578\tACC: 0.812044\n",
      "Train Epoch: 1 [30720/60000 (50%)]\tLoss: 0.215916\tACC: 0.868359\n",
      "Train Epoch: 1 [46080/60000 (75%)]\tLoss: 0.165396\tACC: 0.894293\n",
      "Train Epoch: 2 [15360/60000 (25%)]\tLoss: 0.116744\tACC: 0.967643\n",
      "Train Epoch: 2 [30720/60000 (50%)]\tLoss: 0.061666\tACC: 0.971029\n",
      "Train Epoch: 2 [46080/60000 (75%)]\tLoss: 0.080923\tACC: 0.972786\n",
      "Train Epoch: 3 [15360/60000 (25%)]\tLoss: 0.038066\tACC: 0.984896\n",
      "Train Epoch: 3 [30720/60000 (50%)]\tLoss: 0.050616\tACC: 0.984603\n",
      "Train Epoch: 3 [46080/60000 (75%)]\tLoss: 0.047337\tACC: 0.983963\n",
      "Train Epoch: 4 [15360/60000 (25%)]\tLoss: 0.062809\tACC: 0.988932\n",
      "Train Epoch: 4 [30720/60000 (50%)]\tLoss: 0.062258\tACC: 0.989323\n",
      "Train Epoch: 4 [46080/60000 (75%)]\tLoss: 0.041295\tACC: 0.989453\n",
      "Train Epoch: 5 [15360/60000 (25%)]\tLoss: 0.028056\tACC: 0.988737\n",
      "Train Epoch: 5 [30720/60000 (50%)]\tLoss: 0.020263\tACC: 0.989681\n",
      "Train Epoch: 5 [46080/60000 (75%)]\tLoss: 0.020963\tACC: 0.990321\n",
      "Train Epoch: 6 [15360/60000 (25%)]\tLoss: 0.026171\tACC: 0.992122\n",
      "Train Epoch: 6 [30720/60000 (50%)]\tLoss: 0.034145\tACC: 0.992415\n",
      "Train Epoch: 6 [46080/60000 (75%)]\tLoss: 0.015104\tACC: 0.992470\n",
      "Train Epoch: 7 [15360/60000 (25%)]\tLoss: 0.011403\tACC: 0.993620\n",
      "Train Epoch: 7 [30720/60000 (50%)]\tLoss: 0.034644\tACC: 0.993555\n",
      "Train Epoch: 7 [46080/60000 (75%)]\tLoss: 0.039836\tACC: 0.993446\n",
      "Train Epoch: 8 [15360/60000 (25%)]\tLoss: 0.016529\tACC: 0.995117\n",
      "Train Epoch: 8 [30720/60000 (50%)]\tLoss: 0.020733\tACC: 0.995313\n",
      "Train Epoch: 8 [46080/60000 (75%)]\tLoss: 0.015390\tACC: 0.995703\n",
      "Train Epoch: 9 [15360/60000 (25%)]\tLoss: 0.012052\tACC: 0.995638\n",
      "Train Epoch: 9 [30720/60000 (50%)]\tLoss: 0.034162\tACC: 0.996061\n",
      "Train Epoch: 9 [46080/60000 (75%)]\tLoss: 0.019198\tACC: 0.995942\n",
      "Train Epoch: 10 [15360/60000 (25%)]\tLoss: 0.007268\tACC: 0.995247\n",
      "Train Epoch: 10 [30720/60000 (50%)]\tLoss: 0.003129\tACC: 0.995931\n",
      "Train Epoch: 10 [46080/60000 (75%)]\tLoss: 0.007890\tACC: 0.995920\n",
      "\n",
      "Test set: Average loss: 0.0327, Accuracy: 9897/10000 (99%)\n",
      "\n"
     ]
    }
   ],
   "source": [
    "# 训练CNN模型\n",
    "cnn_model, cnn_loss, cnn_acc = train(cnn_model, DEVICE, train_loader, optimizer, EPOCHS)\n",
    "test(cnn_model, DEVICE, test_loader)"
   ]
  },
  {
   "cell_type": "code",
   "execution_count": 46,
   "metadata": {},
   "outputs": [],
   "source": [
    "# MLP 模型\n",
    "mlp_model = MLPNet().to(DEVICE)\n",
    "mlp_optimizer = optim.Adam(mlp_model.parameters())"
   ]
  },
  {
   "cell_type": "code",
   "execution_count": 47,
   "metadata": {},
   "outputs": [
    {
     "name": "stdout",
     "output_type": "stream",
     "text": [
      "Train Epoch: 1 [15360/60000 (25%)]\tLoss: 0.435049\tACC: 0.797070\n",
      "Train Epoch: 1 [30720/60000 (50%)]\tLoss: 0.387683\tACC: 0.852930\n",
      "Train Epoch: 1 [46080/60000 (75%)]\tLoss: 0.177139\tACC: 0.876172\n",
      "Train Epoch: 2 [15360/60000 (25%)]\tLoss: 0.160911\tACC: 0.950000\n",
      "Train Epoch: 2 [30720/60000 (50%)]\tLoss: 0.149326\tACC: 0.951986\n",
      "Train Epoch: 2 [46080/60000 (75%)]\tLoss: 0.104780\tACC: 0.953429\n",
      "Train Epoch: 3 [15360/60000 (25%)]\tLoss: 0.096406\tACC: 0.971224\n",
      "Train Epoch: 3 [30720/60000 (50%)]\tLoss: 0.089391\tACC: 0.970671\n",
      "Train Epoch: 3 [46080/60000 (75%)]\tLoss: 0.099630\tACC: 0.971419\n",
      "Train Epoch: 4 [15360/60000 (25%)]\tLoss: 0.053730\tACC: 0.977799\n",
      "Train Epoch: 4 [30720/60000 (50%)]\tLoss: 0.073967\tACC: 0.978092\n",
      "Train Epoch: 4 [46080/60000 (75%)]\tLoss: 0.050257\tACC: 0.979058\n",
      "Train Epoch: 5 [15360/60000 (25%)]\tLoss: 0.032567\tACC: 0.985091\n",
      "Train Epoch: 5 [30720/60000 (50%)]\tLoss: 0.036959\tACC: 0.984147\n",
      "Train Epoch: 5 [46080/60000 (75%)]\tLoss: 0.053630\tACC: 0.984201\n",
      "Train Epoch: 6 [15360/60000 (25%)]\tLoss: 0.048779\tACC: 0.989323\n",
      "Train Epoch: 6 [30720/60000 (50%)]\tLoss: 0.034992\tACC: 0.988184\n",
      "Train Epoch: 6 [46080/60000 (75%)]\tLoss: 0.028241\tACC: 0.987218\n",
      "Train Epoch: 7 [15360/60000 (25%)]\tLoss: 0.025039\tACC: 0.987500\n",
      "Train Epoch: 7 [30720/60000 (50%)]\tLoss: 0.019636\tACC: 0.988672\n",
      "Train Epoch: 7 [46080/60000 (75%)]\tLoss: 0.018101\tACC: 0.989128\n",
      "Train Epoch: 8 [15360/60000 (25%)]\tLoss: 0.026137\tACC: 0.992448\n",
      "Train Epoch: 8 [30720/60000 (50%)]\tLoss: 0.040850\tACC: 0.992708\n",
      "Train Epoch: 8 [46080/60000 (75%)]\tLoss: 0.051548\tACC: 0.992339\n",
      "Train Epoch: 9 [15360/60000 (25%)]\tLoss: 0.015514\tACC: 0.994661\n",
      "Train Epoch: 9 [30720/60000 (50%)]\tLoss: 0.030304\tACC: 0.995573\n",
      "Train Epoch: 9 [46080/60000 (75%)]\tLoss: 0.024905\tACC: 0.995226\n",
      "Train Epoch: 10 [15360/60000 (25%)]\tLoss: 0.009653\tACC: 0.996159\n",
      "Train Epoch: 10 [30720/60000 (50%)]\tLoss: 0.014767\tACC: 0.996452\n",
      "Train Epoch: 10 [46080/60000 (75%)]\tLoss: 0.021806\tACC: 0.995768\n",
      "\n",
      "Test set: Average loss: 0.0671, Accuracy: 9799/10000 (98%)\n",
      "\n"
     ]
    }
   ],
   "source": [
    "# 训练MLP模型\n",
    "mlp_model, mlp_loss, mlp_acc = train(mlp_model, DEVICE, train_loader, mlp_optimizer, EPOCHS)\n",
    "test(mlp_model, DEVICE, test_loader)"
   ]
  },
  {
   "cell_type": "code",
   "execution_count": 49,
   "metadata": {},
   "outputs": [
    {
     "data": {
      "image/png": "[encoded data removed]",
      "text/plain": [
       "<Figure size 640x480 with 1 Axes>"
      ]
     },
     "metadata": {},
     "output_type": "display_data"
    },
    {
     "data": {
      "image/png": "[encoded data removed]",
      "text/plain": [
       "<Figure size 640x480 with 1 Axes>"
      ]
     },
     "metadata": {},
     "output_type": "display_data"
    }
   ],
   "source": [
    "plot_loss_and_acc({'CNN-adam': [cnn_loss, cnn_acc],\n",
    "                   'MLP-adam': [mlp_loss, mlp_acc]})"
   ]
  },
  {
   "cell_type": "code",
   "execution_count": null,
   "metadata": {},
   "outputs": [],
   "source": [
    "# 一个卷积层，一个pooling，两个全连接层\n",
    "class ConvNet2(nn.Module):\n",
    "    def __init__(self):\n",
    "        super().__init__()\n",
    "        # batch*1*28*28（每次会送入batch个样本，输入通道数1（黑白图像），图像分辨率是28x28）\n",
    "        # 下面的卷积层Conv2d的第一个参数指输入通道数，第二个参数指输出通道数，第三个参数指卷积核的大小\n",
    "        self.conv1 = nn.Conv2d(1, 10, 5) # 输入通道数1，输出通道数10，核的大小5\n",
    "        # 下面的全连接层Linear的第一个参数指输入通道数，第二个参数指输出通道数\n",
    "        self.fc1 = nn.Linear(10*12*12, 500) # 输入通道数是1440，输出通道数是500\n",
    "        self.fc2 = nn.Linear(500, 10) # 输入通道数是500，输出通道数是10，即10分类\n",
    "    def forward(self,x):\n",
    "        in_size = x.size(0) # 在本例中in_size=512，也就是BATCH_SIZE的值。输入的x可以看成是512*1*28*28的张量。\n",
    "        out = self.conv1(x) # batch*1*28*28 -> batch*10*24*24（28x28的图像经过一次核为5x5的卷积，输出变为24x24）\n",
    "        out = F.relu(out) # batch*10*24*24（激活函数ReLU不改变形状））\n",
    "        out = F.max_pool2d(out, 2, 2) # batch*10*24*24 -> batch*10*12*12（2*2的池化层会减半）\n",
    "        out = out.view(in_size, -1) # batch*10*12*12 -> batch*1440（out的第二维是-1，说明是自动推算，本例中第二维是10*12*12）\n",
    "        out = self.fc1(out) # batch*1440 -> batch*500\n",
    "        out = F.relu(out) # batch*500\n",
    "        out = self.fc2(out) # batch*500 -> batch*10\n",
    "        out = F.log_softmax(out, dim=1) # 计算log(softmax(x))\n",
    "        return out"
   ]
  },
  {
   "cell_type": "code",
   "execution_count": null,
   "metadata": {},
   "outputs": [],
   "source": [
    "# 卷积核变大\n",
    "\n",
    "class ConvNet3(nn.Module):\n",
    "    def __init__(self):\n",
    "        super().__init__()\n",
    "        # batch*1*28*28（每次会送入batch个样本，输入通道数1（黑白图像），图像分辨率是28x28）\n",
    "        # 下面的卷积层Conv2d的第一个参数指输入通道数，第二个参数指输出通道数，第三个参数指卷积核的大小\n",
    "        self.conv1 = nn.Conv2d(1, 10, 5) # 输入通道数1，输出通道数10，核的大小5\n",
    "        # self.conv2 = nn.Conv2d(10, 20, 3) # 输入通道数10，输出通道数20，核的大小3\n",
    "        # 下面的全连接层Linear的第一个参数指输入通道数，第二个参数指输出通道数\n",
    "        self.fc1 = nn.Linear(20*10*10, 500) # 输入通道数是2000，输出通道数是500\n",
    "        self.fc2 = nn.Linear(500, 10) # 输入通道数是500，输出通道数是10，即10分类\n",
    "    def forward(self,x):\n",
    "        in_size = x.size(0) # 在本例中in_size=512，也就是BATCH_SIZE的值。输入的x可以看成是512*1*28*28的张量。\n",
    "        out = self.conv1(x) # batch*1*28*28 -> batch*10*24*24（28x28的图像经过一次核为5x5的卷积，输出变为24x24）\n",
    "        out = F.relu(out) # batch*10*24*24（激活函数ReLU不改变形状））\n",
    "        out = F.max_pool2d(out, 2, 2) # batch*10*24*24 -> batch*10*12*12（2*2的池化层会减半）\n",
    "        out = self.conv2(out) # batch*10*12*12 -> batch*20*10*10（再卷积一次，核的大小是3）\n",
    "        out = F.relu(out) # batch*20*10*10\n",
    "        out = out.view(in_size, -1) # batch*20*10*10 -> batch*2000（out的第二维是-1，说明是自动推算，本例中第二维是20*10*10）\n",
    "        out = self.fc1(out) # batch*2000 -> batch*500\n",
    "        out = F.relu(out) # batch*500\n",
    "        out = self.fc2(out) # batch*500 -> batch*10\n",
    "        out = F.log_softmax(out, dim=1) # 计算log(softmax(x))\n",
    "        return out"
   ]
  },
  {
   "cell_type": "code",
   "execution_count": null,
   "metadata": {},
   "outputs": [],
   "source": [
    "# 优化器 SGD\n",
    "\n",
    "class ConvNet2(nn.Module):\n",
    "    def __init__(self):\n",
    "        super().__init__()\n",
    "        # batch*1*28*28（每次会送入batch个样本，输入通道数1（黑白图像），图像分辨率是28x28）\n",
    "        # 下面的卷积层Conv2d的第一个参数指输入通道数，第二个参数指输出通道数，第三个参数指卷积核的大小\n",
    "        self.conv1 = nn.Conv2d(1, 10, 5) # 输入通道数1，输出通道数10，核的大小5\n",
    "        # self.conv2 = nn.Conv2d(10, 20, 3) # 输入通道数10，输出通道数20，核的大小3\n",
    "        # 下面的全连接层Linear的第一个参数指输入通道数，第二个参数指输出通道数\n",
    "        self.fc1 = nn.Linear(20*10*10, 500) # 输入通道数是2000，输出通道数是500\n",
    "        self.fc2 = nn.Linear(500, 10) # 输入通道数是500，输出通道数是10，即10分类\n",
    "    def forward(self,x):\n",
    "        in_size = x.size(0) # 在本例中in_size=512，也就是BATCH_SIZE的值。输入的x可以看成是512*1*28*28的张量。\n",
    "        out = self.conv1(x) # batch*1*28*28 -> batch*10*24*24（28x28的图像经过一次核为5x5的卷积，输出变为24x24）\n",
    "        out = F.relu(out) # batch*10*24*24（激活函数ReLU不改变形状））\n",
    "        out = F.max_pool2d(out, 2, 2) # batch*10*24*24 -> batch*10*12*12（2*2的池化层会减半）\n",
    "        out = self.conv2(out) # batch*10*12*12 -> batch*20*10*10（再卷积一次，核的大小是3）\n",
    "        out = F.relu(out) # batch*20*10*10\n",
    "        out = out.view(in_size, -1) # batch*20*10*10 -> batch*2000（out的第二维是-1，说明是自动推算，本例中第二维是20*10*10）\n",
    "        out = self.fc1(out) # batch*2000 -> batch*500\n",
    "        out = F.relu(out) # batch*500\n",
    "        out = self.fc2(out) # batch*500 -> batch*10\n",
    "        out = F.log_softmax(out, dim=1) # 计算log(softmax(x))\n",
    "        return out"
   ]
  }
 ],
 "metadata": {
  "kernelspec": {
   "display_name": "Python 3.10.4 ('myenv')",
   "language": "python",
   "name": "python3"
  },
  "language_info": {
   "codemirror_mode": {
    "name": "ipython",
    "version": 3
   },
   "file_extension": ".py",
   "mimetype": "text/x-python",
   "name": "python",
   "nbconvert_exporter": "python",
   "pygments_lexer": "ipython3",
   "version": "3.7.13"
  },
  "orig_nbformat": 4,
  "vscode": {
   "interpreter": {
    "hash": "e9e9e0cbfb899acaeb9cd2ac17f6ec54a4ac04ee3fd997afd68ebf10cc771f18"
   }
  }
 },
 "nbformat": 4,
 "nbformat_minor": 2
}
